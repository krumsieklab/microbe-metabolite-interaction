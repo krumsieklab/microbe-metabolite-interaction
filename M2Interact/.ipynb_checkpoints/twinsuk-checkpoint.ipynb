{
 "cells": [
  {
   "cell_type": "markdown",
   "metadata": {},
   "source": [
    "Data Requirement:\n",
    "1. Both metagenomics and metabolomics data is in SEPARATE csv files as xxx.csv\n",
    "2. The samples are columns and the microbe/metabolite are rows in both files\n",
    "3. The first row (header is the name of samples)\n",
    "4. The first column are names of microbe/metabolite\n",
    "\n",
    "Metabolomics: \n",
    "1. The csv file is preprocessed\n",
    "2. The data is logged\n",
    "3. There is no missingness value - data is imputed using some method \n",
    "\n",
    "Metagenomics\n",
    "1. The data can be either count or relative abundance\n",
    "2. The data should NOT have any kind of transformation (clr, box-cox, etc)\n",
    "\n",
    "TODO: Please correct the data link below before running "
   ]
  },
  {
   "cell_type": "code",
   "execution_count": null,
   "metadata": {},
   "outputs": [],
   "source": [
    "# !Please load data paths here \n",
    "#JK: you can move this cell to the top of the notebook, the imports don't have to be first\n",
    "#CB: done\n",
    "microbiome_path = 'biocrust/data/microbiome.csv'\n",
    "metabolome_path = 'biocrust/data/metabolome.csv'"
   ]
  },
  {
   "cell_type": "code",
   "execution_count": null,
   "metadata": {
    "ExecuteTime": {
     "end_time": "2024-12-04T19:20:26.909286Z",
     "start_time": "2024-12-04T19:20:24.639257Z"
    }
   },
   "outputs": [],
   "source": [
    "import pandas as pd\n",
    "import numpy as np\n",
    "import os\n",
    "import shutil\n",
    "import matplotlib.pyplot as plt\n",
    "import seaborn as sns\n",
    "from matplotlib.backends.backend_pdf import PdfPages\n",
    "\n",
    "import M2module\n",
    "import M2dataproccess\n",
    "\n",
    "from sklearn.exceptions import ConvergenceWarning\n",
    "import warnings\n",
    "with warnings.catch_warnings():\n",
    "    warnings.filterwarnings(\"ignore\", category=ConvergenceWarning)"
   ]
  },
  {
   "cell_type": "code",
   "execution_count": null,
   "metadata": {
    "ExecuteTime": {
     "end_time": "2024-12-04T19:21:09.292658Z",
     "start_time": "2024-12-04T19:21:09.277020Z"
    }
   },
   "outputs": [],
   "source": [
    "# Create the output folder if it doesn't exist, delete it if it does\n",
    "folder_name = 'twinsuk'\n",
    "if not os.path.exists(folder_name):\n",
    "    os.makedirs(folder_name)\n",
    "else:\n",
    "    shutil.rmtree(folder_name)\n",
    "    os.makedirs(folder_name)\n",
    "\n",
    "#create data folder for storing result file in twinsuk folder\n",
    "results_folder = os.makedirs('twinsuk/results', exist_ok=True)"
   ]
  },
  {
   "cell_type": "code",
   "execution_count": null,
   "metadata": {
    "ExecuteTime": {
     "end_time": "2024-12-04T19:23:09.582269Z",
     "start_time": "2024-12-04T19:23:03.143083Z"
    }
   },
   "outputs": [],
   "source": [
    "# Load metabolomics data\n",
    "met, met_header = M2dataproccess.parse_raw_data(metabolome_path)\n",
    "\n",
    "# Transpose \n",
    "met_t = M2dataproccess.transpose_csv(met)\n",
    "\n",
    "# Convert to numeric and fill NaN with zeros\n",
    "metabolome_data = met_t.apply(pd.to_numeric, errors='coerce').fillna(0)\n",
    "\n",
    "# Get all metabolites\n",
    "all_metabolites = metabolome_data.columns\n",
    "\n",
    "# Generate an abundance distribution histogram for each metabolite\n",
    "# Save plots to a PDF with multiple plots per page\n",
    "#JK: Code style comment, you should use your folder_name variable everywhere instead of hardcoding it again\n",
    "#JK: I made the change here, but won't make the others\n",
    "#CB: Done\n",
    "with PdfPages(f'{folder_name}/metabolite_distributions_multi.pdf') as pdf:\n",
    "    figs_per_page = 8  # Number of plots per page (2 rows x 4 columns)\n",
    "    rows, cols = 2, 4\n",
    "    total_plots = len(all_metabolites)\n",
    "    \n",
    "    for i in range(0, total_plots, figs_per_page):\n",
    "        plt.figure(figsize=(16, 10))  # Size for each page\n",
    "        for j in range(figs_per_page):\n",
    "            idx = i + j\n",
    "            if idx >= total_plots:  # Avoid overflow\n",
    "                break\n",
    "            metabolite = all_metabolites[idx]\n",
    "            plt.subplot(rows, cols, j + 1)\n",
    "            sns.histplot(metabolome_data[metabolite], kde=True, bins=30)\n",
    "            plt.title(f'Distribution of {metabolite}')\n",
    "            plt.xlabel('Abundance')\n",
    "            plt.ylabel('Frequency')\n",
    "\n",
    "        plt.tight_layout()\n",
    "        pdf.savefig()  # Save current page to PDF\n",
    "        plt.close()\n"
   ]
  },
  {
   "cell_type": "code",
   "execution_count": null,
   "metadata": {
    "ExecuteTime": {
     "end_time": "2024-12-04T19:29:25.217019Z",
     "start_time": "2024-12-04T19:29:25.209667Z"
    }
   },
   "outputs": [],
   "source": [
    "# Prepare the microbiome data\n",
    "#JK: I moved the common part from the loop to here, which is good practice\n",
    "\n",
    "# Load microbiome data\n",
    "mic, mic_header = M2dataproccess.parse_raw_data(microbiome_path)\n",
    "\n",
    "# Transpose the data\n",
    "mic_t = M2dataproccess.transpose_csv(mic)\n",
    "\n"
   ]
  },
  {
   "cell_type": "code",
   "execution_count": null,
   "metadata": {
    "ExecuteTime": {
     "start_time": "2024-12-04T19:40:57.673572Z"
    },
    "jupyter": {
     "is_executing": true
    }
   },
   "outputs": [],
   "source": [
    "# Generate different versions of microbiome data based on missingness thresholds\n",
    "\n",
    "# Define microbiome missingness thresholds to loop through\n",
    "# Microbes with more than the threshold proportion of missing values will be dropped\n",
    "threshold_values = [0.1, 0.2, 0.25, 0.3]\n",
    "\n",
    "# Loop through thresholds\n",
    "for threshold in threshold_values:\n",
    "    print(f\"Processing for threshold: {threshold}\")\n",
    "\n",
    "    # drop rare features based on threshold\n",
    "    microbiome = M2dataproccess.drop_rare_features(mic_t, threshold=threshold) #JKtodo\n",
    "\n",
    "    # Convert microbiome data to numeric and fill NaN with zeros\n",
    "    microbiome_data = microbiome.apply(pd.to_numeric, errors='coerce').fillna(0) #JK: I forgot, but CLR works with zeros, so this is fine?\n",
    "    #CB: in case there is na in the data, which should not be the case, am converting to 0\n",
    "    #CB: otherwise relative abundance will not work\n",
    "\n",
    "    # Calculate different permutations of using CLR and power transformation\n",
    "    #JK: removed unnecessary intermediate variables\n",
    "    #CB: currently there are 2 variables: compositional transformation (clr), data scaling (power/standard scalar)\n",
    "    #CB: what intermediate variable would you like me to remove?\n",
    "    microbiome_versions = {\n",
    "        'raw': M2dataproccess.make_compositional(microbiome_data, 'none', 'none'), #JKtodo,\n",
    "        'clr': M2dataproccess.make_compositional(microbiome_data, 'clr', 'none'),\n",
    "        'pt': M2dataproccess.make_compositional(microbiome_data, 'none', 'power'),\n",
    "        'pt_clr': M2dataproccess.make_compositional(microbiome_data, 'clr', 'power')\n",
    "    }\n",
    "    \n",
    "    # Generate histograms of each microbe in each version of the microbiome data\n",
    "    all_species = microbiome_data.columns\n",
    "    pdf_path = f'{folder_name}/microbe_distributions_threshold_{threshold}.pdf'\n",
    "    \n",
    "    print(\"Plotting...\")\n",
    "    with PdfPages(pdf_path) as pdf:\n",
    "        microbes_per_page = 2  # Two microbes per page\n",
    "        variations = ['Raw', 'CLR', 'Power', 'CLR+Power']\n",
    "        rows, cols = 2, 4  # Each microbe has 4 columns for its variations\n",
    "        \n",
    "        total_plots = len(all_species)\n",
    "        \n",
    "        for i in range(0, total_plots, microbes_per_page):\n",
    "            plt.figure(figsize=(20, 10))  # Size for each page\n",
    "            for j in range(microbes_per_page):\n",
    "                idx = i + j\n",
    "                if idx >= total_plots:  # Avoid overflow\n",
    "                    break\n",
    "                species = all_species[idx]\n",
    "                \n",
    "                # Create subplots for the current microbe's variations\n",
    "                for k, version_key in enumerate(microbiome_versions.keys()):\n",
    "                    data = microbiome_versions[version_key]\n",
    "                    plt.subplot(rows, cols, j * 4 + k + 1)  # Offset for the microbe (row position)\n",
    "                    sns.histplot(data[species], kde=True, bins=30)\n",
    "                    plt.title(f'{version_key} - {species}')\n",
    "                    plt.xlabel('Value')\n",
    "                    plt.ylabel('Frequency')\n",
    "\n",
    "            plt.tight_layout()\n",
    "            pdf.savefig()  # Save current page to PDF\n",
    "            plt.close()\n",
    "    print(f\"Plots saved to {pdf_path}\")\n",
    "    \n",
    "    \n",
    "    # Create a folder to store the results for the current threshold\n",
    "    os.makedirs('{}/results/threshold_{}'.format(folder_name, threshold), exist_ok=True)\n",
    "\n",
    "    # For each version, map microbiome to metabolome, and save the results\n",
    "    # Loop through each microbiome version and align with metabolite data\n",
    "    for version_name, microbiome in microbiome_versions.items():\n",
    "        \n",
    "        print(\"  Processing version:\", version_name)\n",
    "        \n",
    "        # Align microbiome and metabolite data\n",
    "        microbe, metabolite = M2dataproccess.align_microbiome_metabolite(microbiome, metabolome_data)\n",
    "        print(f\"  Aligned microbiome shape: {microbe.shape}\")\n",
    "        print(f\"  Aligned metabolome shape: {metabolite.shape}\")\n",
    "\n",
    "        # Perform the MB algorithm and regress microbiome on metabolome and vice versa\n",
    "        print(\"  Running MB algorithm...\")\n",
    "        with warnings.catch_warnings():\n",
    "            warnings.filterwarnings(\"ignore\", category=ConvergenceWarning) \n",
    "            \n",
    "            # Perform neighborhood selection\n",
    "            microbiome_neighborhoods = M2module.mb_neighborhood_selection(microbe, metabolite) #JKtodo\n",
    "            metabolites_neighborhoods = M2module.mb_neighborhood_selection(metabolite, microbe)\n",
    "\n",
    "        # Renaming the rows and columns for clarity\n",
    "        microbiome_neighborhoods.index = microbe.columns \n",
    "        microbiome_neighborhoods.columns = metabolite.columns\n",
    "\n",
    "        metabolites_neighborhoods.index = metabolite.columns\n",
    "        metabolites_neighborhoods.columns = microbe.columns\n",
    "        \n",
    "        # Save the results to CSV files for each microbiome version and threshold\n",
    "        microbiome_csv_path = f'{folder_name}/results/threshold_{threshold}/{version_name}_microbe_neighborhood.csv'\n",
    "        metabolite_csv_path = f'{folder_name}/results/threshold_{threshold}/{version_name}__metabolite_neighborhood.csv'\n",
    "        \n",
    "        microbiome_neighborhoods.to_csv(microbiome_csv_path)\n",
    "        metabolites_neighborhoods.to_csv(metabolite_csv_path)\n",
    "        \n",
    "        print(f\"Saved microbiome neighborhood to {microbiome_csv_path}\")\n",
    "        print(f\"Saved metabolite neighborhood to {metabolite_csv_path}\")\n"
   ]
  },
  {
   "cell_type": "code",
   "execution_count": null,
   "metadata": {},
   "outputs": [],
   "source": []
  }
 ],
 "metadata": {
  "kernelspec": {
   "display_name": "base",
   "language": "python",
   "name": "python3"
  },
  "language_info": {
   "codemirror_mode": {
    "name": "ipython",
    "version": 3
   },
   "file_extension": ".py",
   "mimetype": "text/x-python",
   "name": "python",
   "nbconvert_exporter": "python",
   "pygments_lexer": "ipython3",
   "version": "3.9.18"
  }
 },
 "nbformat": 4,
 "nbformat_minor": 2
}
