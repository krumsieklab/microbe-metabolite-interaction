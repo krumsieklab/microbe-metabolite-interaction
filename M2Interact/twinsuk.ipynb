{
 "cells": [
  {
   "cell_type": "code",
   "execution_count": 16,
   "metadata": {},
   "outputs": [],
   "source": [
    "import pandas as pd\n",
    "import numpy as np\n",
    "import os\n",
    "\n",
    "import M2module\n",
    "import M2dataproccess\n",
    "\n",
    "from sklearn.exceptions import ConvergenceWarning\n",
    "import warnings\n",
    "with warnings.catch_warnings():\n",
    "    warnings.filterwarnings(\"ignore\", category=ConvergenceWarning)"
   ]
  },
  {
   "cell_type": "code",
   "execution_count": 20,
   "metadata": {},
   "outputs": [],
   "source": [
    "# Create the folder if it doesn't exist\n",
    "folder_name = 'twinsuk'\n",
    "if not os.path.exists(folder_name):\n",
    "    os.makedirs(folder_name)\n",
    "else:\n",
    "    os.rmdir(folder_name)\n",
    "    os.makedirs(folder_name)\n",
    "    \n",
    "#create data folder for storing data file in twinsuk folder\n",
    "data_folder = os.makedirs('twinsuk/data')\n",
    "\n",
    "#create data folder for storing result file in twinsuk folder\n",
    "results_folder = os.makedirs('twinsuk/results')"
   ]
  },
  {
   "cell_type": "code",
   "execution_count": 21,
   "metadata": {},
   "outputs": [
    {
     "name": "stdout",
     "output_type": "stream",
     "text": [
      "biocrust/microbiome.csv\n"
     ]
    }
   ],
   "source": [
    "# Prompt user for the microbiome file name and path\n",
    "file_name = input(\"Enter the file name and path for the microbiome file: \")\n",
    "print(file_name)"
   ]
  },
  {
   "cell_type": "code",
   "execution_count": 28,
   "metadata": {},
   "outputs": [
    {
     "name": "stdout",
     "output_type": "stream",
     "text": [
      "Number of microbes before dropping: 466\n",
      "Number of microbes after dropping: 424\n",
      "[[0.14218385 0.09773019 0.         ... 0.         0.00640977 0.        ]\n",
      " [0.04999016 0.00093486 0.01136587 ... 0.         0.00998819 0.        ]\n",
      " [0.06691807 0.         0.01193007 ... 0.00767912 0.         0.00671923]\n",
      " ...\n",
      " [0.09543282 0.17607058 0.         ... 0.         0.00133248 0.        ]\n",
      " [0.07272472 0.16518967 0.         ... 0.         0.00117222 0.00178178]\n",
      " [0.0922465  0.20711628 0.         ... 0.         0.00213831 0.0029081 ]]\n",
      "[[0.14218385 0.09773019 0.         ... 0.         0.00640977 0.        ]\n",
      " [0.04999016 0.00093486 0.01136587 ... 0.         0.00998819 0.        ]\n",
      " [0.06691807 0.         0.01193007 ... 0.00767912 0.         0.00671923]\n",
      " ...\n",
      " [0.09543282 0.17607058 0.         ... 0.         0.00133248 0.        ]\n",
      " [0.07272472 0.16518967 0.         ... 0.         0.00117222 0.00178178]\n",
      " [0.0922465  0.20711628 0.         ... 0.         0.00213831 0.0029081 ]]\n",
      "[[0.14218385 0.09773019 0.         ... 0.         0.00640977 0.        ]\n",
      " [0.04999016 0.00093486 0.01136587 ... 0.         0.00998819 0.        ]\n",
      " [0.06691807 0.         0.01193007 ... 0.00767912 0.         0.00671923]\n",
      " ...\n",
      " [0.09543282 0.17607058 0.         ... 0.         0.00133248 0.        ]\n",
      " [0.07272472 0.16518967 0.         ... 0.         0.00117222 0.00178178]\n",
      " [0.0922465  0.20711628 0.         ... 0.         0.00213831 0.0029081 ]]\n",
      "[[0.14218385 0.09773019 0.         ... 0.         0.00640977 0.        ]\n",
      " [0.04999016 0.00093486 0.01136587 ... 0.         0.00998819 0.        ]\n",
      " [0.06691807 0.         0.01193007 ... 0.00767912 0.         0.00671923]\n",
      " ...\n",
      " [0.09543282 0.17607058 0.         ... 0.         0.00133248 0.        ]\n",
      " [0.07272472 0.16518967 0.         ... 0.         0.00117222 0.00178178]\n",
      " [0.0922465  0.20711628 0.         ... 0.         0.00213831 0.0029081 ]]\n"
     ]
    }
   ],
   "source": [
    "\n",
    "# Load and process microbiome data\n",
    "mic, mic_header = M2dataproccess.parse_raw_data(file_name)\n",
    "\n",
    "#Transposing the data\n",
    "mic_t = M2dataproccess.transpose_csv(mic)\n",
    "# Drop microbes present in less than 20% of the samples\n",
    "microbiome = M2dataproccess.drop_rare_features(mic_t)\n",
    "\n",
    "# Convert microbiome data to numeric and fill NaN with zeros\n",
    "microbiome_data = microbiome.apply(pd.to_numeric, errors='coerce').fillna(0)\n",
    "microbiome.to_csv('twinsuk/data/microbiome_data.csv', index=True)\n",
    "\n",
    "# Apply CLR transformation and power transformation \n",
    "raw = M2dataproccess.make_compositional(microbiome_data, 'none', 'none')\n",
    "raw.to_csv('twinsuk/data/raw.csv', index=True)\n",
    "microbiome_clr = M2dataproccess.make_compositional(microbiome_data, 'clr', 'none')\n",
    "microbiome_clr.to_csv('twinsuk/data/microbiome_clr.csv', index=True)\n",
    "microbiome_pt = M2dataproccess.make_compositional(microbiome_data, 'none', 'power')\n",
    "microbiome_pt.to_csv('twinsuk/data/microbiome_pt.csv', index=True)\n",
    "microbiome_pt_clr = M2dataproccess.make_compositional(microbiome_data, 'clr', 'power')\n",
    "microbiome_pt_clr.to_csv('twinsuk/data/microbiome_pt_clr.csv', index=True)"
   ]
  },
  {
   "cell_type": "code",
   "execution_count": 23,
   "metadata": {},
   "outputs": [
    {
     "name": "stdout",
     "output_type": "stream",
     "text": [
      "biocrust/metabolome.csv\n"
     ]
    }
   ],
   "source": [
    "# Prompt user for the memetabolome file name and path\n",
    "file_name_2 = input(\"Enter the file name and path for the microbiome file: \")\n",
    "print(file_name_2)"
   ]
  },
  {
   "cell_type": "code",
   "execution_count": 29,
   "metadata": {},
   "outputs": [
    {
     "name": "stdout",
     "output_type": "stream",
     "text": [
      "Number of microbes before dropping: 85\n",
      "Number of microbes after dropping: 85\n",
      "After log2 transformation: (19, 85)\n",
      "After kNN imputation: (19, 85)\n",
      "After creating DataFrame from imputed data: (19, 85)\n"
     ]
    },
    {
     "name": "stderr",
     "output_type": "stream",
     "text": [
      "/Users/chb4004/miniconda3/lib/python3.9/site-packages/pandas/core/internals/blocks.py:366: RuntimeWarning: divide by zero encountered in log2\n",
      "  result = func(self.values, **kwargs)\n"
     ]
    }
   ],
   "source": [
    "# Load metabolome\n",
    "# See how the data looks like\n",
    "met, met_header = M2dataproccess.parse_raw_data(file_name_2)\n",
    "#transposing the metabolome data\n",
    "met_t = M2dataproccess.transpose_csv(met)\n",
    "met_t.to_csv('twinsuk/data/metabolome_data.csv', index=True)\n",
    "\n",
    "# Use the same function to drop metabolites present in less than 20% of the samples\n",
    "metabolome = M2dataproccess.drop_rare_features(met_t)\n",
    "\n",
    "# Apply log transformation to the metabolomics data\n",
    "metabolome_data_log = M2dataproccess.make_metabolomics(metabolome)\n",
    "metabolome_data_log.to_csv('twinsuk/data/metabolome_data_log.csv', index=True)"
   ]
  },
  {
   "cell_type": "code",
   "execution_count": 25,
   "metadata": {},
   "outputs": [
    {
     "name": "stdout",
     "output_type": "stream",
     "text": [
      "Microbiome shape: (19, 424)\n",
      "Metabolome shape: (19, 85)\n",
      "Microbiome shape: (19, 424)\n",
      "Metabolome shape: (19, 85)\n",
      "Saved AND results to twinsuk/results/micromet2_raw_min.csv\n",
      "Saved OR results to twinsuk/results/micromet2_raw_max.csv\n",
      "Microbiome shape: (19, 424)\n",
      "Metabolome shape: (19, 85)\n",
      "Microbiome shape: (19, 424)\n",
      "Metabolome shape: (19, 85)\n",
      "Saved AND results to twinsuk/results/micromet2_clr_min.csv\n",
      "Saved OR results to twinsuk/results/micromet2_clr_max.csv\n",
      "Microbiome shape: (19, 424)\n",
      "Metabolome shape: (19, 85)\n",
      "Microbiome shape: (19, 424)\n",
      "Metabolome shape: (19, 85)\n",
      "Saved AND results to twinsuk/results/micromet2_pt_min.csv\n",
      "Saved OR results to twinsuk/results/micromet2_pt_max.csv\n",
      "Microbiome shape: (19, 424)\n",
      "Metabolome shape: (19, 85)\n",
      "Microbiome shape: (19, 424)\n",
      "Metabolome shape: (19, 85)\n",
      "Saved AND results to twinsuk/results/micromet2_pt_clr_min.csv\n",
      "Saved OR results to twinsuk/results/micromet2_pt_clr_max.csv\n"
     ]
    }
   ],
   "source": [
    "# Dictionary to hold the three microbiome versions\n",
    "microbiome_versions = {\n",
    "    'raw': microbiome_data,  # Ensure this is your raw microbiome data\n",
    "    'clr': microbiome_clr,  # Ensure this is your CLR-transformed data\n",
    "    'pt': microbiome_pt,     # Ensure this is your power-transformed data\n",
    "    'pt_clr': microbiome_pt_clr    # Ensure this is your power-transformed on clr data\n",
    "}\n",
    "\n",
    "# Loop through each microbiome version and process it with metabolite data\n",
    "for version_name, microbiome in microbiome_versions.items():\n",
    "    \n",
    "    # Initialize variables to store correct and incorrect counts\n",
    "    correct_count_and = 0\n",
    "    wrong_count_and = 0\n",
    "\n",
    "    correct_count_or = 0\n",
    "    wrong_count_or = 0\n",
    "    \n",
    "    print(f\"Microbiome shape: {microbiome.shape}\")\n",
    "    print(f\"Metabolome shape: {metabolome_data_log.shape}\")\n",
    "    \n",
    "    #microbe, metabolite = M2dataproccess.align_microbiome_metabolite(microbiome, metabolome_data_log)\n",
    "    microbe, metabolite = M2dataproccess.align_microbiome_metabolite(microbiome, metabolome_data_log)\n",
    "    print(f\"Microbiome shape: {microbe.shape}\")\n",
    "    print(f\"Metabolome shape: {metabolite.shape}\")\n",
    "\n",
    "    # Perform the MB algorithm and regress microbiome on metabolome and vice versa\n",
    "    with warnings.catch_warnings():\n",
    "        warnings.filterwarnings(\"ignore\", category=ConvergenceWarning) \n",
    "        # Perform neighborhood selection (assuming this function is predefined)\n",
    "        microbiome_neighborhoods = M2module.mb_neighborhood_selection(microbe, metabolite)\n",
    "        metabolites_neighborhoods = M2module.mb_neighborhood_selection(metabolite, microbe)\n",
    "\n",
    "    # Renaming the rows and columns for clarity\n",
    "    microbiome_neighborhoods.index = microbe.columns \n",
    "    microbiome_neighborhoods.columns = metabolite.columns\n",
    "\n",
    "    metabolites_neighborhoods.index = metabolite.columns\n",
    "    metabolites_neighborhoods.columns = microbe.columns\n",
    "\n",
    "    # Get the AND and OR bidirectional relationships\n",
    "    bidirectional_relationships_and = M2module.find_bipartite_neighborhood(microbiome_neighborhoods, metabolites_neighborhoods, \"min\")\n",
    "    bidirectional_relationships_or = M2module.find_bipartite_neighborhood(microbiome_neighborhoods, metabolites_neighborhoods, \"max\")\n",
    "    \n",
    "    # Save the results to CSV files for each microbiome version\n",
    "    and_csv_path = f'twinsuk/results/micromet2_{version_name}_min.csv'\n",
    "    or_csv_path = f'twinsuk/results/micromet2_{version_name}_max.csv'\n",
    "    \n",
    "    # Save to CSV\n",
    "    bidirectional_relationships_and.to_csv(and_csv_path)\n",
    "    bidirectional_relationships_or.to_csv(or_csv_path)\n",
    "    \n",
    "    print(f\"Saved AND results to {and_csv_path}\")\n",
    "    print(f\"Saved OR results to {or_csv_path}\")"
   ]
  }
 ],
 "metadata": {
  "kernelspec": {
   "display_name": "base",
   "language": "python",
   "name": "python3"
  },
  "language_info": {
   "codemirror_mode": {
    "name": "ipython",
    "version": 3
   },
   "file_extension": ".py",
   "mimetype": "text/x-python",
   "name": "python",
   "nbconvert_exporter": "python",
   "pygments_lexer": "ipython3",
   "version": "3.9.20"
  }
 },
 "nbformat": 4,
 "nbformat_minor": 2
}
